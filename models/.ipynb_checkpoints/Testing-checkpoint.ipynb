{
 "cells": [
  {
   "cell_type": "code",
   "execution_count": 87,
   "id": "cdbae89e",
   "metadata": {},
   "outputs": [],
   "source": [
    "import language_tool_python\n",
    "import Levenshtein as lev\n",
    "\n",
    "import json\n",
    "import re\n",
    "import string\n",
    "import typing as tp\n",
    "from typing import Type\n",
    "\n",
    "\n",
    "CRITERIA_PATH = \"criteria.json\"\n",
    "QUARTER = \" квартал\"\n",
    "NOT_VALID_TEXT_LENGTH = \"Поле текст пустое\"\n",
    "NOT_VALID_CLASS = \"Не подходит ни один из классов\"\n",
    "NOT_VALID_TWO_CLASSES = \"Возможно несколько вариантов\"\n",
    "NOT_VERIFIED = {\n",
    "    \"name\": None,\n",
    "    \"code\": 0,\n",
    "    \"path\": [\"Не верифицированные документы\", None, None, None, None],\n",
    "    \"criteria_list\": [],\n",
    "    \"compute_date\": 0\n",
    "}\n",
    "\n",
    "MONTH_NUMBER = {\n",
    "    \"январь\": 1, \"февраль\": 2, \"март\": 3,\n",
    "    \"апрель\": 4, \"май\": 5, \"июнь\": 6,\n",
    "    \"июль\": 7, \"август\": 8, \"сентябрь\": 9,\n",
    "    \"октябрь\": 10, \"ноябрь\": 11, \"декабрь\": 12\n",
    "}\n",
    "\n",
    "MONTH_NUMBER_P = {\n",
    "    \"января\": 1, \"февраля\": 2, \"марта\": 3,\n",
    "    \"апреля\": 4, \"мая\": 5, \"июня\": 6,\n",
    "    \"июля\": 7, \"августа\": 8, \"сентября\": 9,\n",
    "    \"октября\": 10, \"ноября\": 11, \"декабря\": 12\n",
    "}\n",
    "\n",
    "DATE_WORD = \"дата\"\n",
    "\n",
    "SIMPLE_DATE_REG = r\"\\d\\d \\w\\w \\d\\d\\d\\d\"\n",
    "\n",
    "\n",
    "def correct_text(txt: str) -> str:\n",
    "#     tool = language_tool_python.LanguageTool('ru-RU')\n",
    "#     txt = tool.correct(txt)\n",
    "#     txt = txt.lower().encode('ascii', 'ignore').decode()\n",
    "    txt = txt.lower()\n",
    "    filt = re.compile(\"[^а-яa-z0-9 ]+\")\n",
    "    txt = re.sub(filt, \"\", txt)\n",
    "#     txt = re.sub('[%s]' % re.escape(string.punctuation), ' ', txt)\n",
    "    return txt\n",
    "\n",
    "\n",
    "class CriteriaClassifier:\n",
    "    def __init__(self, classes_json_path: str = CRITERIA_PATH, not_verified = NOT_VERIFIED,\n",
    "                 not_verified_simple_threshold: float = 1.0, not_verified_lev_threshold: float = 0.8) -> None:\n",
    "        self.classes = self._load_class_criteria_from_json(classes_json_path) # Список классов, принадлежность к которым проверяем\n",
    "        assert len(self.classes) > 0\n",
    "        self.not_verified = not_verified # Уровни для неверифицированных документов\n",
    "        self.not_verified_lev_threshold = not_verified_lev_threshold # Порог, при достижении которого документ не считается принадлежащим классу\n",
    "        self.not_verified_simple_threshold = not_verified_simple_threshold\n",
    "        \n",
    "    def __call__(self, text: str) -> tp.Any:\n",
    "        text = correct_text(text)\n",
    "        if len(text) == 0:\n",
    "            self.not_verified[\"name\"] = NOT_VALID_TEXT_LENGTH\n",
    "            return self.not_verified\n",
    "        words = text.split()\n",
    "            \n",
    "        simple_distances = [self._compute_simple_criteria_dist(cl, text) for cl in self.classes]\n",
    "        lev_distances = [self._compute_lev_criteria_dist(cl, words) for cl in self.classes]\n",
    "        time_distances = [self._compute_time_dist(cl, text) for cl in self.classes]\n",
    "        \n",
    "#         print(simple_distances)\n",
    "#         print(lev_distances)\n",
    "#         print(time_distances)\n",
    "        \n",
    "        simple_min = self._find_min_inds(simple_distances, self.not_verified_simple_threshold)\n",
    "        if len(simple_min) == 1:\n",
    "            return self._return_class(text, simple_min[0])\n",
    "        \n",
    "        lev_min = self._find_min_inds(lev_distances, self.not_verified_lev_threshold,\n",
    "                                      ignore={i for i in range(len(lev_distances)) if i not in simple_min})\n",
    "        if len(lev_min) == 1:\n",
    "            return self._return_class(text, lev_min[0])\n",
    "        \n",
    "        time_min = self._find_min_inds(time_distances, 10,\n",
    "                                       ignore={i for i in range(len(time_distances)) if i not in lev_min})\n",
    "        \n",
    "#         print(simple_min)\n",
    "#         print(lev_min)\n",
    "#         print(time_min)\n",
    "        \n",
    "        if len(time_min) == 1:\n",
    "            return self._return_class(text, time_min[0])\n",
    "        if len(time_min) > 1:\n",
    "            self.not_verified[\"name\"] = NOT_VALID_TWO_CLASSES\n",
    "            return self.not_verified\n",
    "        self.not_verified[\"name\"] = NOT_VALID_CLASS\n",
    "        return self.not_verified\n",
    "    \n",
    "    def _return_class(self, text, ind: int) -> tp.Any:\n",
    "        if self.classes[ind][\"compute_date\"] > 0:\n",
    "            year, month, day = self._compute_date(text)\n",
    "            self.classes[ind][\"path\"][2] = str(year)\n",
    "            self.classes[ind][\"path\"][3] = str((month + 3) // 4) + QUARTER\n",
    "        return self.classes[ind]\n",
    "    \n",
    "    def _find_min_inds(self, dst: tp.List[float], threshold: float, ignore: tp.Set[int] = {}) -> tp.List[int]:\n",
    "        min_ind = None\n",
    "        for i in range(len(dst)):\n",
    "            if (min_ind is None or dst[i] < dst[min_ind]) and i not in ignore:\n",
    "                min_ind = i\n",
    "        if min_ind is None:\n",
    "            return []\n",
    "        return [i for i in range(len(dst)) if dst[i] == dst[min_ind] and dst[i] <= threshold and i not in ignore]\n",
    "        \n",
    "    def _compute_date(self, text: str) -> tp.Tuple[str]:\n",
    "        try:\n",
    "            match_dates = [(m.start(0), m.end(0), tuple(map(int, text[m.start(0):m.end(0)].split())))\n",
    "               for m in re.finditer(SIMPLE_DATE_REG, text)]\n",
    "            match_dates += [(m.start(0), m.end(0), text[m.start(0):m.end(0)].split())\n",
    "                            for m in re.finditer(r\"\\d\\d\\s(?:\" + \"|\".join(MONTH_NUMBER_P.keys()) + \")\\s\\d{4}\", text)]\n",
    "            match_dates += [(m.start(0), m.end(0), text[m.start(0):m.end(0)].split())\n",
    "                            for m in re.finditer(r\"\\d\\s(?:\" + \"|\".join(MONTH_NUMBER_P.keys()) + \")\\s\\d{4}\", text)]\n",
    "            match_dates += [(m.start(0), m.end(0), text[m.start(0):m.end(0)].split())\n",
    "                            for m in re.finditer(r\"\\d\\d\\s(?:\" + \"|\".join(MONTH_NUMBER.keys()) + \")\\s\\d{4}\", text)]\n",
    "            match_dates += [(m.start(0), m.end(0), text[m.start(0):m.end(0)].split())\n",
    "                            for m in re.finditer(r\"\\d\\s(?:\" + \"|\".join(MONTH_NUMBER.keys()) + \")\\s\\d{4}\", text)]\n",
    "            match_dates += [(m.start(0), m.end(0), text[m.start(0):m.end(0)].split())\n",
    "                            for m in re.finditer(r\"\\s(?:\" + \"|\".join(MONTH_NUMBER_P.keys()) + \")\\s\\d{4}\", text)]\n",
    "            match_dates += [(m.start(0), m.end(0), text[m.start(0):m.end(0)].split())\n",
    "                            for m in re.finditer(r\"\\s(?:\" + \"|\".join(MONTH_NUMBER.keys()) + \")\\s\\d{4}\", text)]\n",
    "            match_dates = sorted(match_dates, reverse=True)\n",
    "            date = match_dates[-1][-1]\n",
    "            if type(date[0]) == str:\n",
    "                if len(date) == 2 and date[0] in MONTH_NUMBER:\n",
    "                    return int(date[1]), MONTH_NUMBER[date[0]], 0\n",
    "                if len(date) == 2 and date[0] in MONTH_NUMBER_P:\n",
    "                    return int(date[1]), MONTH_NUMBER_P[date[0]], 0\n",
    "                if date[1] in MONTH_NUMBER:\n",
    "                    return int(date[2]), MONTH_NUMBER[date[1]], int(date[0])\n",
    "                return int(date[2]), MONTH_NUMBER_P[date[1]], int(date[0])\n",
    "            return date[2], date[1], date[0]\n",
    "        except:\n",
    "            return 0, 0, 0\n",
    "    \n",
    "    def _compute_time_dist(self, cl, text: str) -> float:\n",
    "        year, month, day = self._compute_date(text)\n",
    "#         print(cl[\"compute_date\"], month)\n",
    "        if cl[\"compute_date\"] == month:\n",
    "            return 0\n",
    "        if cl[\"compute_date\"] < 12 and cl[\"compute_date\"] > 0 and month > 0 and month < 12:\n",
    "            return 0\n",
    "        return 1\n",
    "    \n",
    "    def _compute_simple_criteria_dist(self, class_criteria: tp.Dict[str, tp.Any], text: str) -> float:\n",
    "        distance_sum = 0.0\n",
    "        for crit in class_criteria[\"criteria_list\"]:\n",
    "            if crit in text:\n",
    "                distance_sum += 1\n",
    "        return 1.0 - distance_sum / len(class_criteria[\"criteria_list\"]) # Процент не вошедших в документ критериев \n",
    "    \n",
    "    def _compute_lev_criteria_dist(self, class_criteria: tp.Dict[str, tp.Any], words: tp.List['str']) -> float:\n",
    "        distance_sum = 0.0\n",
    "        for crit in class_criteria[\"criteria_list\"]:\n",
    "            min_dist = len(crit) + 0.0\n",
    "            n_words = len(crit.split())\n",
    "            for i in range(len(words)):\n",
    "                substr = \" \".join(words[i:min(i + n_words, len(words))])\n",
    "                min_dist = min(min_dist, lev.distance(substr, crit))\n",
    "            distance_sum += min_dist / max(len(crit), len(substr))\n",
    "        return distance_sum / len(class_criteria[\"criteria_list\"]) # Среднее минимальное расстояние между критериями и текстом. Принадлежит отрезку [0, 1]\n",
    "\n",
    "    def _load_class_criteria_from_json(self, path):\n",
    "        with open(path) as json_file:\n",
    "            class_criteria = json.load(json_file)\n",
    "            for cl in class_criteria:\n",
    "                for i in range(len(cl[\"criteria_list\"])):\n",
    "                    cl[\"criteria_list\"][i] = correct_text(cl[\"criteria_list\"][i])\n",
    "        return class_criteria"
   ]
  },
  {
   "cell_type": "code",
   "execution_count": 79,
   "id": "7fcaad78",
   "metadata": {},
   "outputs": [
    {
     "data": {
      "text/plain": [
       "{'name': 'Бухгалтерская отчетность_форма 1 _промежуточная',\n",
       " 'code': '2e321818-4571-43ae-9e08-2ade54b83e14',\n",
       " 'path': ['Досье по ЮЛ',\n",
       "  'Финансовое досье',\n",
       "  '1999',\n",
       "  '1 квартал',\n",
       "  'Бухгалтерская отчетность'],\n",
       " 'criteria_list': ['бухгалтерский баланс',\n",
       "  'форма по окуд 0710001',\n",
       "  'актив',\n",
       "  'пассив'],\n",
       " 'compute_date': 3}"
      ]
     },
     "execution_count": 79,
     "metadata": {},
     "output_type": "execute_result"
    }
   ],
   "source": [
    "CriteriaClassifier()(\"Помогите! Форма по ОКУД 0710001 date 20 03 1999 это тестовая фраза\")"
   ]
  },
  {
   "cell_type": "code",
   "execution_count": 80,
   "id": "36568fd7",
   "metadata": {},
   "outputs": [
    {
     "data": {
      "text/plain": [
       "{'name': 'Бухгалтерская отчетность_форма 1',\n",
       " 'code': '4f501f4a-c665-4cc8-9715-6ed26e7819f2',\n",
       " 'path': ['Досье по ЮЛ',\n",
       "  'Финансовое досье',\n",
       "  '2007',\n",
       "  '3 квартал',\n",
       "  'Бухгалтерская отчетность'],\n",
       " 'criteria_list': ['бухгалтерский баланс',\n",
       "  'форма по окуд 0710001',\n",
       "  'актив',\n",
       "  'пассив'],\n",
       " 'compute_date': 12}"
      ]
     },
     "execution_count": 80,
     "metadata": {},
     "output_type": "execute_result"
    }
   ],
   "source": [
    "CriteriaClassifier()(\"Помогите! Форма по ОКУД 0710001 date 20 12 2007 бла бла\")"
   ]
  },
  {
   "cell_type": "code",
   "execution_count": 81,
   "id": "d2cf1fc2",
   "metadata": {},
   "outputs": [
    {
     "data": {
      "text/plain": [
       "{'name': 'Не подходит ни один из классов',\n",
       " 'code': 0,\n",
       " 'path': ['Не верифицированные документы', None, None, None, None],\n",
       " 'criteria_list': [],\n",
       " 'compute_date': 0}"
      ]
     },
     "execution_count": 81,
     "metadata": {},
     "output_type": "execute_result"
    }
   ],
   "source": [
    "CriteriaClassifier()(\"Шум\")"
   ]
  },
  {
   "cell_type": "code",
   "execution_count": 82,
   "id": "227c8197",
   "metadata": {},
   "outputs": [
    {
     "data": {
      "text/plain": [
       "{'name': 'Поле текст пустое',\n",
       " 'code': 0,\n",
       " 'path': ['Не верифицированные документы', None, None, None, None],\n",
       " 'criteria_list': [],\n",
       " 'compute_date': 0}"
      ]
     },
     "execution_count": 82,
     "metadata": {},
     "output_type": "execute_result"
    }
   ],
   "source": [
    "CriteriaClassifier()(\"\")"
   ]
  },
  {
   "cell_type": "code",
   "execution_count": 83,
   "id": "b465ad76",
   "metadata": {},
   "outputs": [],
   "source": [
    "with open(\"data.json\") as json_file:\n",
    "    data = json.load(json_file)"
   ]
  },
  {
   "cell_type": "code",
   "execution_count": 88,
   "id": "be95b89b",
   "metadata": {},
   "outputs": [
    {
     "name": "stdout",
     "output_type": "stream",
     "text": [
      "True\n",
      "True\n",
      "True\n",
      "True\n",
      "True\n",
      "True\n",
      "True\n",
      "True\n",
      "True\n"
     ]
    }
   ],
   "source": [
    "for i in range(len(data)):\n",
    "    res = CriteriaClassifier()(data[i][\"x\"].replace(\"\\n\", \" \"))\n",
    "    print(res[\"code\"] == data[i][\"y\"])\n",
    "    if res[\"code\"] != data[i][\"y\"]:\n",
    "        print(res, data[i][\"y\"])"
   ]
  },
  {
   "cell_type": "code",
   "execution_count": 68,
   "id": "e22938a5",
   "metadata": {},
   "outputs": [
    {
     "data": {
      "text/plain": [
       "'555ced1c-c169-4d61-9a82-348801494581'"
      ]
     },
     "execution_count": 68,
     "metadata": {},
     "output_type": "execute_result"
    }
   ],
   "source": [
    "data[1][\"y\"]"
   ]
  },
  {
   "cell_type": "code",
   "execution_count": 85,
   "id": "052943b0",
   "metadata": {},
   "outputs": [
    {
     "data": {
      "text/plain": [
       "(2021, 3, 0)"
      ]
     },
     "execution_count": 85,
     "metadata": {},
     "output_type": "execute_result"
    }
   ],
   "source": [
    "CriteriaClassifier()._compute_date(data[2][\"x\"].replace(\"\\n\", \" \"))"
   ]
  },
  {
   "cell_type": "code",
   "execution_count": 70,
   "id": "21826f2d",
   "metadata": {},
   "outputs": [
    {
     "data": {
      "text/plain": [
       "'Организация  Отчет о финансовых результатах                             Вид эзкономической  деятельности                    Публичные акционерные  общества                               за Январь - Де'"
      ]
     },
     "execution_count": 70,
     "metadata": {},
     "output_type": "execute_result"
    }
   ],
   "source": [
    "data[3][\"x\"][:200].replace(\"\\n\", \" \")"
   ]
  },
  {
   "cell_type": "code",
   "execution_count": 86,
   "id": "1d812f99",
   "metadata": {},
   "outputs": [
    {
     "name": "stdout",
     "output_type": "stream",
     "text": [
      "(2020, 12, 0)\n"
     ]
    }
   ],
   "source": [
    "print(CriteriaClassifier()._compute_date(\"31 декабря 2020 г.\"))\n",
    "tmp = \"31 декабря 2020 г.\""
   ]
  },
  {
   "cell_type": "code",
   "execution_count": 74,
   "id": "01e81dd8",
   "metadata": {},
   "outputs": [
    {
     "data": {
      "text/plain": [
       "[(0, 15, ['31', 'декабря', '2020']),\n",
       " (1, 15, ['1', 'декабря', '2020']),\n",
       " (2, 15, ['декабря', '2020'])]"
      ]
     },
     "execution_count": 74,
     "metadata": {},
     "output_type": "execute_result"
    }
   ],
   "source": [
    "match_dates = [(m.start(0), m.end(0), tuple(map(int, tmp[m.start(0):m.end(0)].split())))\n",
    "               for m in re.finditer(SIMPLE_DATE_REG, tmp)]\n",
    "match_dates += [(m.start(0), m.end(0), tmp[m.start(0):m.end(0)].split())\n",
    "                for m in re.finditer(r\"\\d\\d\\s(?:\" + \"|\".join(MONTH_NUMBER_P.keys()) + \")\\s\\d{4}\", tmp)]\n",
    "match_dates += [(m.start(0), m.end(0), tmp[m.start(0):m.end(0)].split())\n",
    "                for m in re.finditer(r\"\\d\\s(?:\" + \"|\".join(MONTH_NUMBER_P.keys()) + \")\\s\\d{4}\", tmp)]\n",
    "match_dates += [(m.start(0), m.end(0), tmp[m.start(0):m.end(0)].split())\n",
    "                for m in re.finditer(r\"\\d\\d\\s(?:\" + \"|\".join(MONTH_NUMBER.keys()) + \")\\s\\d{4}\", tmp)]\n",
    "match_dates += [(m.start(0), m.end(0), tmp[m.start(0):m.end(0)].split())\n",
    "                for m in re.finditer(r\"\\d\\s(?:\" + \"|\".join(MONTH_NUMBER.keys()) + \")\\s\\d{4}\", tmp)]\n",
    "match_dates += [(m.start(0), m.end(0), tmp[m.start(0):m.end(0)].split())\n",
    "                for m in re.finditer(r\"\\s(?:\" + \"|\".join(MONTH_NUMBER_P.keys()) + \")\\s\\d{4}\", tmp)]\n",
    "match_dates += [(m.start(0), m.end(0), tmp[m.start(0):m.end(0)].split())\n",
    "                for m in re.finditer(r\"\\s(?:\" + \"|\".join(MONTH_NUMBER.keys()) + \")\\s\\d{4}\", tmp)]\n",
    "match_dates"
   ]
  },
  {
   "cell_type": "code",
   "execution_count": null,
   "id": "00d66041",
   "metadata": {},
   "outputs": [],
   "source": []
  },
  {
   "cell_type": "code",
   "execution_count": null,
   "id": "dea09c8b",
   "metadata": {},
   "outputs": [],
   "source": []
  }
 ],
 "metadata": {
  "kernelspec": {
   "display_name": "Data Science",
   "language": "python",
   "name": "ds"
  },
  "language_info": {
   "codemirror_mode": {
    "name": "ipython",
    "version": 3
   },
   "file_extension": ".py",
   "mimetype": "text/x-python",
   "name": "python",
   "nbconvert_exporter": "python",
   "pygments_lexer": "ipython3",
   "version": "3.8.10"
  }
 },
 "nbformat": 4,
 "nbformat_minor": 5
}
